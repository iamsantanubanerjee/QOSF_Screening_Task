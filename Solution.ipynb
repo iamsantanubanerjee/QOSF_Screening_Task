{
 "cells": [
  {
   "cell_type": "code",
   "execution_count": 1,
   "id": "sexual-carry",
   "metadata": {},
   "outputs": [],
   "source": [
    "import numpy as np\n",
    "import math"
   ]
  },
  {
   "cell_type": "code",
   "execution_count": 15,
   "id": "lesser-engagement",
   "metadata": {},
   "outputs": [],
   "source": [
    "x = [[0, 1], [1, 0]]\n",
    "h = [[0.70710678, 0.70710678], [0.70710678, -0.70710678]]\n",
    "cx = np.empty(2)\n",
    "# Define projection operator |0><0|\n",
    "P0x0 = np.array([\n",
    "[1, 0],\n",
    "[0, 0]\n",
    "])\n",
    "\n",
    "# Define projection operator |1><1|\n",
    "P1x1 = np.array([\n",
    "[0, 0],\n",
    "[0, 1]\n",
    "])"
   ]
  },
  {
   "cell_type": "code",
   "execution_count": 123,
   "id": "laden-interstate",
   "metadata": {},
   "outputs": [
    {
     "ename": "SyntaxError",
     "evalue": "invalid syntax (<ipython-input-123-4ce226ffcb49>, line 105)",
     "output_type": "error",
     "traceback": [
      "\u001b[0;36m  File \u001b[0;32m\"<ipython-input-123-4ce226ffcb49>\"\u001b[0;36m, line \u001b[0;32m105\u001b[0m\n\u001b[0;31m    elif (flag1 == 0 and flag2 == 0) and i == 0:\u001b[0m\n\u001b[0m    ^\u001b[0m\n\u001b[0;31mSyntaxError\u001b[0m\u001b[0;31m:\u001b[0m invalid syntax\n"
     ]
    }
   ],
   "source": [
    "def get_ground_state(num_qubits):\n",
    "    # return vector of size 2**num_qubits with all zeroes except first element which is 1\n",
    "    v = []\n",
    "    for i in range(2**num_qubits):\n",
    "        if i == 0:\n",
    "            v.append(1)\n",
    "        else:\n",
    "            v.append(0)\n",
    "    return v\n",
    "\n",
    "def get_operator(total_qubits, gate_unitary, target_qubits):\n",
    "    # return unitary operator of size 2**n x 2**n for given gate and target qubits\n",
    "    \n",
    "    '''#Code for single qubit gates\n",
    "    I = np.identity(2)\n",
    "    flag = 0\n",
    "    \n",
    "    if target_qubits[0] == 0:\n",
    "        O = np.kron(gate_unitary, I)\n",
    "        flag = 1\n",
    "    elif target_qubits[0] == 1:\n",
    "        O = np.kron(I, gate_unitary)\n",
    "        flag = 1\n",
    "    \n",
    "    for i in range((total_qubits - 1) - flag):\n",
    "        if flag == 1:\n",
    "            O = np.kron(O, I)\n",
    "        elif i == (target_qubits[0] - 1):\n",
    "            O = np.kron(O, gate_unitary)\n",
    "        elif i == 0:\n",
    "            O = np.kron(I, I)\n",
    "        else:\n",
    "            O = np.kron(O, I)'''       \n",
    "    \n",
    "    #Code for multi-qubit gate cx\n",
    "    I = np.identity(2)\n",
    "    flag1 = 0\n",
    "    flag2 = 0\n",
    "    \n",
    "    #Works for gate after projection PU or PI\n",
    "    if target_qubits[0] == 0:\n",
    "        if target_qubits[1] == 1:\n",
    "            first_term = np.kron(P0x0, I)\n",
    "            second_term = np.kron(P1x1, gate_unitary)\n",
    "            flag2 = 1\n",
    "        else:\n",
    "            first_term = np.kron(P0x0, I)\n",
    "            second_term = np.kron(P1x1, I)\n",
    "        flag1 = 1\n",
    "    elif target_qubits[0] == 1:\n",
    "        if target_qubits[1] == 0:\n",
    "            first_term = np.kron(I, P0x0)\n",
    "            second_term = np.kron(gate_unitary, P1x1)\n",
    "            flag2 = 1\n",
    "        else:\n",
    "            first_term = np.kron(I, P0x0)\n",
    "            second_term = np.kron(I, P1x1)\n",
    "        flag1 = 1\n",
    "    \n",
    "    '''#For projection after gate UP or UI\n",
    "    if target_qubits[1] == 0:\n",
    "        if target_qubits[0] == 1:\n",
    "            first_term = np.kron(I, P1x1)\n",
    "            second_term = np.kron(gate_unitary, P1x1)\n",
    "            flag1 = 1\n",
    "        else:\n",
    "            first_term = np.kron(I, I)\n",
    "            second_term = np.kron(gate_unitary, I)\n",
    "        flag2 = 1\n",
    "    elif target_qubits[1] == 1:\n",
    "        if target_qubits[0] == 0:\n",
    "            first_term = np.kron(P0x0, I)\n",
    "            second_term = np.kron(P1x1, gate_unitary)\n",
    "            flag1 = 1\n",
    "        else:\n",
    "            first_term = np.kron(P0x0, I)\n",
    "            second_term = np.kron(gate_unitary, I)\n",
    "        flag2 = 1'''\n",
    "    \n",
    "    for i in range((total_qubits - 1) - flag1):\n",
    "        if flag1 == 1 and flag2 == 1:\n",
    "            first_term = np.kron(first_term, I)\n",
    "            second_term = np.kron(second_term, I)\n",
    "            \n",
    "        elif flag1 == 0 and i == (target_qubits[0] - 1):\n",
    "            first_term = np.kron(first_term, P0x0)\n",
    "            second_term = np.kron(second_term, P1x1)\n",
    "            flag1 = 1\n",
    "            \n",
    "        elif flag2 == 0 and i == (target_qubits[1] - 2):\n",
    "            first_term = np.kron(first_term, I)\n",
    "            second_term = np.kron(second_term, gate_unitary)\n",
    "            flag2 = 1\n",
    "            \n",
    "        '''elif flag1 == 0 and i == (target_qubits[1] - 1):\n",
    "            first_term = np.kron(first_term, I)\n",
    "            second_term = np.kron(second_term, gate_unitary)\n",
    "            flag2 = 1\n",
    "            \n",
    "        elif flag2 == 0 and i == (target_qubits[0] - 2):\n",
    "            first_term = np.kron(first_term, P0x0)\n",
    "            second_term = np.kron(second_term, P1x1)\n",
    "            flag1 = 1'''\n",
    "        \n",
    "        elif (flag1 == 0 and flag2 == 0) and i == 0:\n",
    "            first_term = np.kron(I, I)\n",
    "            second_term = np.kron(I, I)\n",
    "        else:\n",
    "            first_term = np.kron(first_term, I)\n",
    "            second_term = np.kron(second_term, I)\n",
    "    \n",
    "    O = first_term + second_term\n",
    "    \n",
    "    return O\n",
    "\n",
    "def run_program(initial_state, program):\n",
    "    # read program, and for each gate:\n",
    "    #   - calculate matrix operator\n",
    "    #   - multiply state with operator\n",
    "    # return final state\n",
    "    O = get_operator(int(math.log(len(my_qpu))/math.log(2)), program[0][\"gate\"], program[0][\"target\"])\n",
    "    print(O)\n",
    "    final_state = np.dot(initial_state, O)\n",
    "    return final_state"
   ]
  },
  {
   "cell_type": "code",
   "execution_count": 127,
   "id": "traditional-strap",
   "metadata": {},
   "outputs": [
    {
     "data": {
      "text/plain": [
       "[0, 0, 0, 0, 0, 1, 0, 0]"
      ]
     },
     "execution_count": 127,
     "metadata": {},
     "output_type": "execute_result"
    }
   ],
   "source": [
    "# Create \"quantum computer\" with 2 qubits (this is actually just a vector :) )\n",
    "my_qpu = [0, 0, 0, 0, 0, 1, 0, 0]\n",
    "\n",
    "my_qpu"
   ]
  },
  {
   "cell_type": "code",
   "execution_count": 128,
   "id": "boxed-amsterdam",
   "metadata": {},
   "outputs": [
    {
     "name": "stdout",
     "output_type": "stream",
     "text": [
      "[[0, 1], [1, 0]]\n"
     ]
    }
   ],
   "source": [
    "my_circuit = [\n",
    "{ \"gate\": x, \"target\": [0, 2] }\n",
    "]\n",
    "print(my_circuit[0][\"gate\"])"
   ]
  },
  {
   "cell_type": "code",
   "execution_count": 129,
   "id": "prime-classic",
   "metadata": {},
   "outputs": [
    {
     "name": "stdout",
     "output_type": "stream",
     "text": [
      "[[1. 0. 0. 0. 0. 0. 0. 0.]\n",
      " [0. 1. 0. 0. 0. 0. 0. 0.]\n",
      " [0. 0. 1. 0. 0. 0. 0. 0.]\n",
      " [0. 0. 0. 1. 0. 0. 0. 0.]\n",
      " [0. 0. 0. 0. 0. 1. 0. 0.]\n",
      " [0. 0. 0. 0. 1. 0. 0. 0.]\n",
      " [0. 0. 0. 0. 0. 0. 0. 1.]\n",
      " [0. 0. 0. 0. 0. 0. 1. 0.]]\n",
      " \n",
      "Final State:  [0. 0. 0. 0. 1. 0. 0. 0.]\n"
     ]
    }
   ],
   "source": [
    "# Run circuit\n",
    "\n",
    "final_state = run_program(my_qpu, my_circuit)\n",
    "print(\" \")\n",
    "print(\"Final State: \",final_state)"
   ]
  },
  {
   "cell_type": "code",
   "execution_count": null,
   "id": "cheap-simple",
   "metadata": {},
   "outputs": [],
   "source": []
  }
 ],
 "metadata": {
  "kernelspec": {
   "display_name": "Python 3",
   "language": "python",
   "name": "python3"
  },
  "language_info": {
   "codemirror_mode": {
    "name": "ipython",
    "version": 3
   },
   "file_extension": ".py",
   "mimetype": "text/x-python",
   "name": "python",
   "nbconvert_exporter": "python",
   "pygments_lexer": "ipython3",
   "version": "3.8.5"
  }
 },
 "nbformat": 4,
 "nbformat_minor": 5
}
